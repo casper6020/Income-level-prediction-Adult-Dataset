{
 "cells": [
  {
   "cell_type": "code",
   "execution_count": 1,
   "id": "4b4d0f7d-7d8f-421f-990f-95e2b9daba02",
   "metadata": {},
   "outputs": [],
   "source": [
    "import pandas as pd\n",
    "import numpy as np\n",
    "import matplotlib.pyplot as plt\n",
    "import seaborn as sns"
   ]
  },
  {
   "cell_type": "code",
   "execution_count": 2,
   "id": "da4d38ab-32ba-4707-87a4-00ed249af216",
   "metadata": {},
   "outputs": [
    {
     "name": "stdout",
     "output_type": "stream",
     "text": [
      "<class 'pandas.core.frame.DataFrame'>\n",
      "RangeIndex: 48842 entries, 0 to 48841\n",
      "Data columns (total 15 columns):\n",
      " #   Column          Non-Null Count  Dtype \n",
      "---  ------          --------------  ----- \n",
      " 0   age             48842 non-null  int64 \n",
      " 1   workclass       47879 non-null  object\n",
      " 2   fnlwgt          48842 non-null  int64 \n",
      " 3   education       48842 non-null  object\n",
      " 4   education-num   48842 non-null  int64 \n",
      " 5   marital-status  48842 non-null  object\n",
      " 6   occupation      47876 non-null  object\n",
      " 7   relationship    48842 non-null  object\n",
      " 8   race            48842 non-null  object\n",
      " 9   sex             48842 non-null  object\n",
      " 10  capital-gain    48842 non-null  int64 \n",
      " 11  capital-loss    48842 non-null  int64 \n",
      " 12  hours-per-week  48842 non-null  int64 \n",
      " 13  native-country  48568 non-null  object\n",
      " 14  income          48842 non-null  object\n",
      "dtypes: int64(6), object(9)\n",
      "memory usage: 5.6+ MB\n"
     ]
    }
   ],
   "source": [
    "df = pd.read_csv('data.csv')\n",
    "df.info()"
   ]
  },
  {
   "cell_type": "markdown",
   "id": "5fafcb2d-c084-4f6e-b9bb-21cd4083f3ab",
   "metadata": {},
   "source": [
    "### Data Pre-processing\n",
    "**Checking Redundant Variable and Missing Values**"
   ]
  },
  {
   "cell_type": "code",
   "execution_count": 3,
   "id": "9aff859e-bd04-489e-bf3c-b714d0db2498",
   "metadata": {},
   "outputs": [
    {
     "data": {
      "text/plain": [
       "age                 0\n",
       "workclass         963\n",
       "fnlwgt              0\n",
       "education           0\n",
       "education-num       0\n",
       "marital-status      0\n",
       "occupation        966\n",
       "relationship        0\n",
       "race                0\n",
       "sex                 0\n",
       "capital-gain        0\n",
       "capital-loss        0\n",
       "hours-per-week      0\n",
       "native-country    274\n",
       "income              0\n",
       "dtype: int64"
      ]
     },
     "execution_count": 3,
     "metadata": {},
     "output_type": "execute_result"
    }
   ],
   "source": [
    "df.isnull().sum()"
   ]
  },
  {
   "cell_type": "markdown",
   "id": "eaf8aa95-35b1-4509-9f22-c54c18801b45",
   "metadata": {},
   "source": [
    "*Education and Education-num indicates same variable, let's remove them*"
   ]
  },
  {
   "cell_type": "code",
   "execution_count": 4,
   "id": "f44774ce-9114-4a47-9cc2-2eb1d1e7ed6d",
   "metadata": {},
   "outputs": [],
   "source": [
    "df = df.drop(columns=[\"education-num\"],axis=1)"
   ]
  },
  {
   "cell_type": "code",
   "execution_count": 5,
   "id": "c3d64a8f-10ad-49f7-95e2-2b9cd7ffbfe7",
   "metadata": {},
   "outputs": [
    {
     "name": "stdout",
     "output_type": "stream",
     "text": [
      "['State-gov' 'Self-emp-not-inc' 'Private' 'Federal-gov' 'Local-gov' '?'\n",
      " 'Self-emp-inc' 'Without-pay' 'Never-worked' nan]\n",
      "['Adm-clerical' 'Exec-managerial' 'Handlers-cleaners' 'Prof-specialty'\n",
      " 'Other-service' 'Sales' 'Craft-repair' 'Transport-moving'\n",
      " 'Farming-fishing' 'Machine-op-inspct' 'Tech-support' '?'\n",
      " 'Protective-serv' 'Armed-Forces' 'Priv-house-serv' nan]\n",
      "['United-States' 'Cuba' 'Jamaica' 'India' '?' 'Mexico' 'South'\n",
      " 'Puerto-Rico' 'Honduras' 'England' 'Canada' 'Germany' 'Iran'\n",
      " 'Philippines' 'Italy' 'Poland' 'Columbia' 'Cambodia' 'Thailand' 'Ecuador'\n",
      " 'Laos' 'Taiwan' 'Haiti' 'Portugal' 'Dominican-Republic' 'El-Salvador'\n",
      " 'France' 'Guatemala' 'China' 'Japan' 'Yugoslavia' 'Peru'\n",
      " 'Outlying-US(Guam-USVI-etc)' 'Scotland' 'Trinadad&Tobago' 'Greece'\n",
      " 'Nicaragua' 'Vietnam' 'Hong' 'Ireland' 'Hungary' 'Holand-Netherlands' nan]\n"
     ]
    }
   ],
   "source": [
    "var_with_missing_vals = [var for var in df.columns if df[var].isnull().mean() > 0]\n",
    "\n",
    "for var in var_with_missing_vals:\n",
    "  print(df[var].unique())"
   ]
  },
  {
   "cell_type": "code",
   "execution_count": 6,
   "id": "6ac81005-5f91-41fb-8a07-f3847336b363",
   "metadata": {},
   "outputs": [
    {
     "name": "stdout",
     "output_type": "stream",
     "text": [
      "workclass\n",
      "occupation\n",
      "native-country\n"
     ]
    }
   ],
   "source": [
    "for var in df.columns:\n",
    "  if '?' in df[var].unique():\n",
    "    print(var)"
   ]
  },
  {
   "cell_type": "code",
   "execution_count": 7,
   "id": "6dd96dcb-b742-4901-80be-dfe6b88f0ede",
   "metadata": {},
   "outputs": [],
   "source": [
    "#Let's convert them rows including \"?\" to null values.\n",
    "for var in var_with_missing_vals:\n",
    "  df[var] = df[var].replace('?', np.nan)"
   ]
  },
  {
   "cell_type": "code",
   "execution_count": 8,
   "id": "53b05bb9-0c1f-4abd-b8d3-d6e116525242",
   "metadata": {},
   "outputs": [
    {
     "data": {
      "text/plain": [
       "age                  0\n",
       "workclass         2799\n",
       "fnlwgt               0\n",
       "education            0\n",
       "marital-status       0\n",
       "occupation        2809\n",
       "relationship         0\n",
       "race                 0\n",
       "sex                  0\n",
       "capital-gain         0\n",
       "capital-loss         0\n",
       "hours-per-week       0\n",
       "native-country     857\n",
       "income               0\n",
       "dtype: int64"
      ]
     },
     "execution_count": 8,
     "metadata": {},
     "output_type": "execute_result"
    }
   ],
   "source": [
    "#Lets check the total number of null values again. \n",
    "df.isna().sum()"
   ]
  },
  {
   "cell_type": "markdown",
   "id": "f5520a06-5bbf-4a18-abb2-b07803a7e19c",
   "metadata": {},
   "source": [
    "*Let's check the values in the dependent variable*"
   ]
  },
  {
   "cell_type": "code",
   "execution_count": 9,
   "id": "513dae3a-aed6-4c74-9776-22936d770375",
   "metadata": {},
   "outputs": [
    {
     "data": {
      "text/plain": [
       "income\n",
       "<=50K     50.612178\n",
       "<=50K.    25.459645\n",
       ">50K      16.053806\n",
       ">50K.      7.874370\n",
       "Name: proportion, dtype: float64"
      ]
     },
     "execution_count": 9,
     "metadata": {},
     "output_type": "execute_result"
    }
   ],
   "source": [
    "df[\"income\"].value_counts(normalize=True)*100"
   ]
  },
  {
   "cell_type": "markdown",
   "id": "77a0dd07-ce85-4f58-9b93-62a50a2338b1",
   "metadata": {},
   "source": [
    "*There are unnecessasry puntuation in the values. Let's clean them.*"
   ]
  },
  {
   "cell_type": "code",
   "execution_count": 10,
   "id": "e5b85f8d-ea05-4ae7-862c-b38433beacab",
   "metadata": {},
   "outputs": [
    {
     "data": {
      "text/plain": [
       "array(['<=50K', '>50K'], dtype=object)"
      ]
     },
     "execution_count": 10,
     "metadata": {},
     "output_type": "execute_result"
    }
   ],
   "source": [
    "df[\"income\"] = df[\"income\"].str.strip(\".\")\n",
    "df[\"income\"].unique()"
   ]
  },
  {
   "cell_type": "code",
   "execution_count": 11,
   "id": "b4aa8f89-4d09-44bd-ac39-116201c749be",
   "metadata": {},
   "outputs": [],
   "source": [
    "# Step 1: Calculate missing value counts for each category of target variable\n",
    "\n",
    "missing_values = {}\n",
    "\n",
    "for var in var_with_missing_vals:\n",
    "    missing = df[df[var].isnull()].groupby('income').size()\n",
    "    total = df.groupby('income').size()\n",
    "    proportion = (missing / total) * 100\n",
    "    missing_values[var] = pd.DataFrame({'proportion': proportion})"
   ]
  },
  {
   "cell_type": "code",
   "execution_count": 12,
   "id": "8b87e0fb-ef85-4397-a493-9f5f8a1f3501",
   "metadata": {},
   "outputs": [
    {
     "data": {
      "text/html": [
       "<div>\n",
       "<style scoped>\n",
       "    .dataframe tbody tr th:only-of-type {\n",
       "        vertical-align: middle;\n",
       "    }\n",
       "\n",
       "    .dataframe tbody tr th {\n",
       "        vertical-align: top;\n",
       "    }\n",
       "\n",
       "    .dataframe thead th {\n",
       "        text-align: right;\n",
       "    }\n",
       "</style>\n",
       "<table border=\"1\" class=\"dataframe\">\n",
       "  <thead>\n",
       "    <tr style=\"text-align: right;\">\n",
       "      <th></th>\n",
       "      <th>proportion</th>\n",
       "    </tr>\n",
       "    <tr>\n",
       "      <th>income</th>\n",
       "      <th></th>\n",
       "    </tr>\n",
       "  </thead>\n",
       "  <tbody>\n",
       "    <tr>\n",
       "      <th>&lt;=50K</th>\n",
       "      <td>6.820078</td>\n",
       "    </tr>\n",
       "    <tr>\n",
       "      <th>&gt;50K</th>\n",
       "      <td>2.267477</td>\n",
       "    </tr>\n",
       "  </tbody>\n",
       "</table>\n",
       "</div>"
      ],
      "text/plain": [
       "        proportion\n",
       "income            \n",
       "<=50K     6.820078\n",
       ">50K      2.267477"
      ]
     },
     "execution_count": 12,
     "metadata": {},
     "output_type": "execute_result"
    }
   ],
   "source": [
    "missing_values[\"workclass\"]"
   ]
  },
  {
   "cell_type": "code",
   "execution_count": 13,
   "id": "f72aaeea-28b5-47f7-bdc4-c2156c8d682f",
   "metadata": {},
   "outputs": [
    {
     "data": {
      "image/png": "[encoded data removed]",
      "text/plain": [
       "<Figure size 500x300 with 1 Axes>"
      ]
     },
     "metadata": {},
     "output_type": "display_data"
    },
    {
     "data": {
      "image/png": "[encoded data removed]",
      "text/plain": [
       "<Figure size 500x300 with 1 Axes>"
      ]
     },
     "metadata": {},
     "output_type": "display_data"
    },
    {
     "data": {
      "image/png": "[encoded data removed]",
      "text/plain": [
       "<Figure size 500x300 with 1 Axes>"
      ]
     },
     "metadata": {},
     "output_type": "display_data"
    }
   ],
   "source": [
    "# Stacked bar plot for proportions\n",
    "for var in var_with_missing_vals:\n",
    "    missing_prop = pd.crosstab(df[var].isnull(), df['income'], normalize='columns') * 100\n",
    "    missing_prop.T.plot(kind='bar', stacked=True, figsize=(5, 3))\n",
    "    plt.title(f'Proportion of Missing Values for {var}')\n",
    "    plt.ylabel('Percentage')\n",
    "    plt.show()"
   ]
  },
  {
   "cell_type": "markdown",
   "id": "853062b0-c456-4c99-bb5c-2eaaedde10f0",
   "metadata": {},
   "source": [
    "*Since the proportion of missing values is negligible, we can drop them.*"
   ]
  },
  {
   "cell_type": "code",
   "execution_count": 14,
   "id": "acd4f550-508d-4c51-ae71-1caa6fd1bc2a",
   "metadata": {},
   "outputs": [],
   "source": [
    "cleaned_df = df.dropna()"
   ]
  },
  {
   "cell_type": "markdown",
   "id": "c1d2d416-90b4-4d22-b1e8-1048b59211e9",
   "metadata": {},
   "source": [
    "**Encoding Categorical Variables**"
   ]
  },
  {
   "cell_type": "code",
   "execution_count": 15,
   "id": "85b33321-7eb1-494a-96cc-771133156a05",
   "metadata": {},
   "outputs": [],
   "source": [
    "# First Separate the dependent variable\n",
    "X = cleaned_df.drop(\"income\",axis=1)\n",
    "y = cleaned_df[\"income\"].values"
   ]
  },
  {
   "cell_type": "code",
   "execution_count": 16,
   "id": "21813cf9-5c1e-4bc6-889d-e143cc143f46",
   "metadata": {},
   "outputs": [
    {
     "data": {
      "text/plain": [
       "(45222, 95)"
      ]
     },
     "execution_count": 16,
     "metadata": {},
     "output_type": "execute_result"
    }
   ],
   "source": [
    "X_dum = pd.get_dummies(X, drop_first=True)\n",
    "X_dum.shape"
   ]
  },
  {
   "cell_type": "code",
   "execution_count": 17,
   "id": "05ce378f-f8e4-4b70-979d-235ab2053fc4",
   "metadata": {},
   "outputs": [
    {
     "data": {
      "text/plain": [
       "array([0, 1])"
      ]
     },
     "execution_count": 17,
     "metadata": {},
     "output_type": "execute_result"
    }
   ],
   "source": [
    "y = np.where(y == '>50K',1,0)\n",
    "np.unique(y)"
   ]
  },
  {
   "cell_type": "markdown",
   "id": "59fd5b78-d935-49ca-8428-84fce3f04bf6",
   "metadata": {},
   "source": [
    "### Model Development"
   ]
  },
  {
   "cell_type": "markdown",
   "id": "284db78a-4679-4816-af06-56734140abab",
   "metadata": {},
   "source": [
    "**Train and Test Set Split**"
   ]
  },
  {
   "cell_type": "code",
   "execution_count": 18,
   "id": "55f05af4-468b-47ea-acd1-b6db0c5f0655",
   "metadata": {},
   "outputs": [],
   "source": [
    "from sklearn.model_selection import train_test_split\n",
    "X_train_full, X_eval, y_train_full, y_eval = train_test_split(X_dum, y, test_size = 0.3, random_state = 0)"
   ]
  },
  {
   "cell_type": "code",
   "execution_count": 19,
   "id": "22ca96f3-111a-409c-9b30-3324cf08f0ae",
   "metadata": {},
   "outputs": [],
   "source": [
    "X_train, X_test, y_train, y_test = train_test_split(X_train_full, y_train_full, test_size = 0.3, random_state = 0)"
   ]
  },
  {
   "cell_type": "markdown",
   "id": "830c87f8-447e-4000-837d-641378a39924",
   "metadata": {},
   "source": [
    "**Logistic regression**"
   ]
  },
  {
   "cell_type": "code",
   "execution_count": 20,
   "id": "0a649b58-f760-4eaa-bc23-54cdd68b6190",
   "metadata": {},
   "outputs": [
    {
     "name": "stdout",
     "output_type": "stream",
     "text": [
      "Logistic Regression Accuracy: 79.68\n",
      "Logistic Regression ROC AUC: 61.55\n"
     ]
    }
   ],
   "source": [
    "from sklearn.linear_model import LogisticRegression\n",
    "from sklearn.metrics import accuracy_score, roc_auc_score\n",
    "\n",
    "lgr_clf = LogisticRegression(solver='liblinear', random_state=42)\n",
    "# Fit the model on the training set\n",
    "lgr_clf.fit(X_train, y_train)\n",
    "\n",
    "# Predict on the test set\n",
    "y_pred_lgr = lgr_clf.predict(X_test)\n",
    "\n",
    "# Evaluate the model\n",
    "lg_accu = accuracy_score(y_test, y_pred_lgr)\n",
    "lg_roc_auc = roc_auc_score(y_test, y_pred_lgr)\n",
    "\n",
    "print('Logistic Regression Accuracy:', np.round(lg_accu*100,2))\n",
    "print('Logistic Regression ROC AUC:', np.round(lg_roc_auc*100,2))"
   ]
  },
  {
   "cell_type": "markdown",
   "id": "2a2bc003-a247-491e-8db4-9cfd96703989",
   "metadata": {},
   "source": [
    "**Gradient Boosting Classifier**"
   ]
  },
  {
   "cell_type": "code",
   "execution_count": 21,
   "id": "cd3e7c1e-f02f-47bb-be92-c882a2a825fb",
   "metadata": {},
   "outputs": [
    {
     "name": "stdout",
     "output_type": "stream",
     "text": [
      "Gradient Boosting Classifier Accuracy: 84.55\n",
      "Gradient Boosting Classifier ROC AUC: 71.59\n"
     ]
    }
   ],
   "source": [
    "from sklearn.ensemble import GradientBoostingClassifier\n",
    "\n",
    "gbc_clf = GradientBoostingClassifier(n_estimators=100,\n",
    "                                 learning_rate=0.05,\n",
    "                                 random_state=100,\n",
    "                                 max_features=5)\n",
    "# Fit the model on the training set\n",
    "gbc_clf.fit(X_train, y_train)\n",
    "\n",
    "# Predict on the test set\n",
    "y_pred_gbc = gbc_clf.predict(X_test)\n",
    "\n",
    "# Evaluate the model\n",
    "gbc_accu = accuracy_score(y_test, y_pred_gbc)\n",
    "gbc_roc_auc = roc_auc_score(y_test, y_pred_gbc)\n",
    "\n",
    "print('Gradient Boosting Classifier Accuracy:', np.round(gbc_accu*100,2))\n",
    "print('Gradient Boosting Classifier ROC AUC:', np.round(gbc_roc_auc*100,2))"
   ]
  },
  {
   "cell_type": "markdown",
   "id": "525d90b1-4d69-4852-8a5f-850095520997",
   "metadata": {},
   "source": [
    "**XGB Classifier (Extreme Gradient Boosting Classifier)**"
   ]
  },
  {
   "cell_type": "code",
   "execution_count": 22,
   "id": "fededa7c-1214-4db5-a0b8-a3c02b4842d5",
   "metadata": {},
   "outputs": [
    {
     "name": "stdout",
     "output_type": "stream",
     "text": [
      "Xtreme Boosting Classifier Accuracy: 86.89\n",
      "Xtreme Boosting Classifier ROC AUC: 77.73\n"
     ]
    }
   ],
   "source": [
    "from xgboost import XGBClassifier\n",
    "xgb_clf = XGBClassifier(n_estimators = 100,\n",
    "                        learning_rate = 0.05,\n",
    "                        eval_metric = \"logloss\",\n",
    "                        early_stopping_rounds = 5,\n",
    "                        n_jobs = -1)\n",
    "# Fit the model on the training set\n",
    "xgb_clf.fit(X_train, y_train,\n",
    "            eval_set = [(X_eval,y_eval)],\n",
    "            verbose = False)\n",
    "\n",
    "# Predict on the test set\n",
    "y_pred_xgb = xgb_clf.predict(X_test)\n",
    "\n",
    "# Evaluate the model\n",
    "xgb_accu = accuracy_score(y_test, y_pred_xgb)\n",
    "xgb_roc_auc = roc_auc_score(y_test, y_pred_xgb)\n",
    "\n",
    "print('Xtreme Boosting Classifier Accuracy:', np.round(xgb_accu*100,2))\n",
    "print('Xtreme Boosting Classifier ROC AUC:', np.round(xgb_roc_auc*100,2))"
   ]
  },
  {
   "cell_type": "code",
   "execution_count": 23,
   "id": "c41f4dee-c990-4237-a2e3-681a962a2bde",
   "metadata": {},
   "outputs": [
    {
     "data": {
      "text/html": [
       "<div>\n",
       "<style scoped>\n",
       "    .dataframe tbody tr th:only-of-type {\n",
       "        vertical-align: middle;\n",
       "    }\n",
       "\n",
       "    .dataframe tbody tr th {\n",
       "        vertical-align: top;\n",
       "    }\n",
       "\n",
       "    .dataframe thead th {\n",
       "        text-align: right;\n",
       "    }\n",
       "</style>\n",
       "<table border=\"1\" class=\"dataframe\">\n",
       "  <thead>\n",
       "    <tr style=\"text-align: right;\">\n",
       "      <th></th>\n",
       "      <th>Accuracies</th>\n",
       "      <th>ROC_AUC</th>\n",
       "    </tr>\n",
       "  </thead>\n",
       "  <tbody>\n",
       "    <tr>\n",
       "      <th>0</th>\n",
       "      <td>0.796778</td>\n",
       "      <td>0.615530</td>\n",
       "    </tr>\n",
       "    <tr>\n",
       "      <th>1</th>\n",
       "      <td>0.845530</td>\n",
       "      <td>0.715851</td>\n",
       "    </tr>\n",
       "    <tr>\n",
       "      <th>2</th>\n",
       "      <td>0.868906</td>\n",
       "      <td>0.777289</td>\n",
       "    </tr>\n",
       "  </tbody>\n",
       "</table>\n",
       "</div>"
      ],
      "text/plain": [
       "   Accuracies   ROC_AUC\n",
       "0    0.796778  0.615530\n",
       "1    0.845530  0.715851\n",
       "2    0.868906  0.777289"
      ]
     },
     "execution_count": 23,
     "metadata": {},
     "output_type": "execute_result"
    }
   ],
   "source": [
    "result = {\n",
    "    \"Accuracies\":[lg_accu,gbc_accu,xgb_accu],\n",
    "    \"ROC_AUC\":[lg_roc_auc, gbc_roc_auc, xgb_roc_auc]\n",
    "}\n",
    "result_df = pd.DataFrame(result)\n",
    "result_df"
   ]
  },
  {
   "cell_type": "code",
   "execution_count": 24,
   "id": "ad7a1c3c-340a-4cb8-99fd-cdebe63aea06",
   "metadata": {},
   "outputs": [
    {
     "data": {
      "image/png": "[encoded data removed]",
      "text/plain": [
       "<Figure size 600x400 with 1 Axes>"
      ]
     },
     "metadata": {},
     "output_type": "display_data"
    }
   ],
   "source": [
    "model_names = [\"Logistic Regression\", \"Gradient Boosting\", \"XGBoost Classifier\"]\n",
    "result_df = pd.DataFrame(result, index=model_names)\n",
    "\n",
    "# 2. Create the Grouped Bar Chart\n",
    "fig, ax = plt.subplots(figsize=(6, 4))\n",
    "\n",
    "# Define the bar width and positions\n",
    "bar_width = 0.35\n",
    "index = np.arange(len(result_df.index))\n",
    "\n",
    "# Plot 'Accuracies'\n",
    "bar1 = ax.bar(index - bar_width/2, result_df['Accuracies'], bar_width, label='Accuracy', color='#3498db')\n",
    "\n",
    "# Plot 'ROC_AUC'\n",
    "bar2 = ax.bar(index + bar_width/2, result_df['ROC_AUC'], bar_width, label='ROC AUC', color='#e74c3c')\n",
    "\n",
    "# Add labels, title, and customize x-ticks\n",
    "ax.set_xlabel('Model', fontsize=12)\n",
    "ax.set_ylabel('Score (0.0 to 1.0)', fontsize=10)\n",
    "ax.set_title('Model Performance Comparison: Accuracy vs. ROC AUC', fontsize=12)\n",
    "ax.set_xticks(index)\n",
    "ax.set_xticklabels(result_df.index, rotation=0)\n",
    "ax.legend(loc='lower right')\n",
    "ax.set_ylim(min(result_df.min()) - 0.05, 1.0) # Adjust Y-axis scale\n",
    "\n",
    "# Function to add value labels on top of the bars\n",
    "def autolabel(bars):\n",
    "    for bar in bars:\n",
    "        height = bar.get_height()\n",
    "        ax.annotate(f'{height:.2f}',\n",
    "                    xy=(bar.get_x() + bar.get_width() / 2, height),\n",
    "                    xytext=(0, 3),  # 3 points vertical offset\n",
    "                    textcoords=\"offset points\",\n",
    "                    ha='center', va='bottom',\n",
    "                    fontsize=9)\n",
    "\n",
    "autolabel(bar1)\n",
    "autolabel(bar2)\n",
    "\n",
    "plt.tight_layout()\n",
    "plt.show() # Use plt.show() to display the plot in a standard Python environment"
   ]
  }
 ],
 "metadata": {
  "kernelspec": {
   "display_name": "Python 3 (ipykernel)",
   "language": "python",
   "name": "python3"
  },
  "language_info": {
   "codemirror_mode": {
    "name": "ipython",
    "version": 3
   },
   "file_extension": ".py",
   "mimetype": "text/x-python",
   "name": "python",
   "nbconvert_exporter": "python",
   "pygments_lexer": "ipython3",
   "version": "3.13.7"
  }
 },
 "nbformat": 4,
 "nbformat_minor": 5
}
